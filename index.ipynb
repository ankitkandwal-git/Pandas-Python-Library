{
 "cells": [
  {
   "cell_type": "markdown",
   "id": "a611dd90",
   "metadata": {},
   "source": [
    "                                  ### Agenda\n",
    "Agenda :- Pandas Basics , Data Frames and Series"
   ]
  },
  {
   "cell_type": "markdown",
   "id": "ad8edef6",
   "metadata": {},
   "source": [
    "Pandas :- It is the library for working with structured data . Built on top of numpy "
   ]
  },
  {
   "cell_type": "markdown",
   "id": "1005394e",
   "metadata": {},
   "source": [
    "Series :- 1D Labelled array \n",
    "Data Frames :- 2D Labelled array"
   ]
  },
  {
   "cell_type": "markdown",
   "id": "28fe80af",
   "metadata": {},
   "source": [
    "1D :- Represent a single sequence or list of element \n",
    "2D :- Represent a collection or list of elements in organised manner in grid like manner"
   ]
  },
  {
   "cell_type": "markdown",
   "id": "6f5dbe7d",
   "metadata": {},
   "source": [
    "### 1D Labelled array"
   ]
  },
  {
   "cell_type": "code",
   "execution_count": 1,
   "id": "eb276682",
   "metadata": {},
   "outputs": [
    {
     "name": "stdout",
     "output_type": "stream",
     "text": [
      "0    90\n",
      "1    80\n",
      "2    70\n",
      "3    60\n",
      "4    50\n",
      "dtype: int64\n"
     ]
    }
   ],
   "source": [
    "import pandas as pd \n",
    "### create a series from a list \n",
    "\n",
    "marks = pd.Series([90,80,70,60,50])\n",
    "print(marks)"
   ]
  },
  {
   "cell_type": "markdown",
   "id": "05ce5cce",
   "metadata": {},
   "source": [
    "### adding custom index "
   ]
  },
  {
   "cell_type": "code",
   "execution_count": 3,
   "id": "9c6648bb",
   "metadata": {},
   "outputs": [
    {
     "name": "stdout",
     "output_type": "stream",
     "text": [
      "Series with custom index :\n",
      " Ankit     90\n",
      "Amit      80\n",
      "Chirag    70\n",
      "Deepak    60\n",
      "Isha      50\n",
      "dtype: int64\n"
     ]
    }
   ],
   "source": [
    "marks = pd.Series([90,80,70,60,50], index=['Ankit', 'Amit', 'Chirag', 'Deepak', 'Isha'])\n",
    "print(\"Series with custom index :\\n\", marks)\n"
   ]
  },
  {
   "cell_type": "markdown",
   "id": "120d28da",
   "metadata": {},
   "source": [
    "### accessing element "
   ]
  },
  {
   "cell_type": "code",
   "execution_count": 7,
   "id": "28b64523",
   "metadata": {},
   "outputs": [
    {
     "name": "stdout",
     "output_type": "stream",
     "text": [
      "Marks of Ankit : 90\n",
      "Marks of Chirag : 70\n",
      "Marks of Isha : 50\n",
      "Marks of Amit : 80\n",
      "Marks of Deepak : 60\n"
     ]
    }
   ],
   "source": [
    "print(\"Marks of Ankit :\", marks['Ankit'])\n",
    "print(\"Marks of Chirag :\", marks['Chirag'])\n",
    "print(\"Marks of Isha :\", marks['Isha'])\n",
    "print(\"Marks of Amit :\", marks['Amit'])\n",
    "print(\"Marks of Deepak :\", marks['Deepak'])\n"
   ]
  },
  {
   "cell_type": "code",
   "execution_count": 16,
   "id": "46df05ce",
   "metadata": {},
   "outputs": [
    {
     "name": "stdout",
     "output_type": "stream",
     "text": [
      "Index of 90 marks:  Ankit\n"
     ]
    }
   ],
   "source": [
    "print(\"Index of 90 marks: \", marks[marks==90].index[0])\n",
    "# print(\"Index of 80 marks:\" ,marks[marks==80].index[1])\n",
    "\n"
   ]
  },
  {
   "cell_type": "markdown",
   "id": "c72fd7e9",
   "metadata": {},
   "source": [
    "### useful Methods "
   ]
  },
  {
   "cell_type": "code",
   "execution_count": 17,
   "id": "f6b220fd",
   "metadata": {},
   "outputs": [
    {
     "name": "stdout",
     "output_type": "stream",
     "text": [
      "Max marks:  90\n",
      "Min marks:  50\n",
      "Mean marks:  70.0\n",
      "Median marks:  70.0\n",
      "Summary of marks:\n",
      "  count     5.000000\n",
      "mean     70.000000\n",
      "std      15.811388\n",
      "min      50.000000\n",
      "25%      60.000000\n",
      "50%      70.000000\n",
      "75%      80.000000\n",
      "max      90.000000\n",
      "dtype: float64\n"
     ]
    }
   ],
   "source": [
    "print(\"Max marks: \",marks.max())\n",
    "print(\"Min marks: \",marks.min())\n",
    "print(\"Mean marks: \",marks.mean())\n",
    "print(\"Median marks: \",marks.median())\n",
    "print(\"Summary of marks:\\n \",marks.describe())"
   ]
  },
  {
   "cell_type": "markdown",
   "id": "42cce38a",
   "metadata": {},
   "source": [
    "### DataFrame - 2D Data "
   ]
  },
  {
   "cell_type": "code",
   "execution_count": 25,
   "id": "2af96e3b",
   "metadata": {},
   "outputs": [
    {
     "name": "stdout",
     "output_type": "stream",
     "text": [
      "DataFrame :\n",
      "              name  age  rollNo         city  marks\n",
      "0   Ankit Kandwal   21      12  Los Angeles     98\n",
      "1  Alice whiteman   22      12     San Jose     85\n",
      "2     Chris Lewis   23      12      Chicago     90\n",
      "3     James Jacob   24      12      Houston     88\n",
      "4      John Smith   25      12        Miami     92\n"
     ]
    }
   ],
   "source": [
    "data = {\n",
    "    'name' : ['Ankit Kandwal', 'Alice whiteman', 'Chris Lewis', 'James Jacob', 'John Smith'],\n",
    "    'age' : [21, 22, 23, 24, 25],\n",
    "    'rollNo': [12, 12, 12, 12, 12],\n",
    "    'city' : ['Los Angeles', 'San Jose', 'Chicago', 'Houston', 'Miami'],\n",
    "    'marks' : [98, 85, 90, 88, 92]\n",
    "}\n",
    "df = pd.DataFrame(data)\n",
    "print(\"DataFrame :\\n\" , df)\n"
   ]
  },
  {
   "cell_type": "code",
   "execution_count": 31,
   "id": "72718ecc",
   "metadata": {},
   "outputs": [
    {
     "name": "stdout",
     "output_type": "stream",
     "text": [
      "Marks column :\n",
      "  0    98\n",
      "1    85\n",
      "2    90\n",
      "3    88\n",
      "4    92\n",
      "Name: marks, dtype: int64\n",
      "\n",
      "Name column :\n",
      " 0     Ankit Kandwal\n",
      "1    Alice whiteman\n",
      "2       Chris Lewis\n",
      "3       James Jacob\n",
      "4        John Smith\n",
      "Name: name, dtype: object\n",
      "\n",
      "City column :\n",
      " 0    Los Angeles\n",
      "1       San Jose\n",
      "2        Chicago\n",
      "3        Houston\n",
      "4          Miami\n",
      "Name: city, dtype: object\n",
      "\n",
      "Age column :\n",
      " 0    21\n",
      "1    22\n",
      "2    23\n",
      "3    24\n",
      "4    25\n",
      "Name: age, dtype: int64\n"
     ]
    }
   ],
   "source": [
    "### Access a column \n",
    "print(\"Marks column :\\n \", df['marks'])\n",
    "print()\n",
    "print(\"Name column :\\n\", df['name'])\n",
    "print()\n",
    "print(\"City column :\\n\", df['city'])\n",
    "print()\n",
    "print(\"Age column :\\n\", df['age'])"
   ]
  },
  {
   "cell_type": "code",
   "execution_count": 33,
   "id": "19282c97",
   "metadata": {},
   "outputs": [
    {
     "name": "stdout",
     "output_type": "stream",
     "text": [
      "Name and City columns :\n",
      "              name         city\n",
      "0   Ankit Kandwal  Los Angeles\n",
      "1  Alice whiteman     San Jose\n",
      "2     Chris Lewis      Chicago\n",
      "3     James Jacob      Houston\n",
      "4      John Smith        Miami\n"
     ]
    }
   ],
   "source": [
    "### Accessing multiple columns\n",
    "print(\"Name and City columns :\\n\", df[['name', 'city']])"
   ]
  },
  {
   "cell_type": "markdown",
   "id": "b9320c76",
   "metadata": {},
   "source": [
    "### Loc and Iloc \n",
    "\n",
    "loc :- accessing by label \n",
    "iloc :- accessing by position"
   ]
  },
  {
   "cell_type": "code",
   "execution_count": null,
   "id": "fca5af45",
   "metadata": {},
   "outputs": [
    {
     "name": "stdout",
     "output_type": "stream",
     "text": [
      "Row with label at 2:\n",
      " name      Ankit Kandwal\n",
      "age                  21\n",
      "rollNo               12\n",
      "city        Los Angeles\n",
      "marks                98\n",
      "Name: 0, dtype: object\n",
      "\n",
      "Row with label at 4:\n",
      " name      John Smith\n",
      "age               25\n",
      "rollNo            12\n",
      "city           Miami\n",
      "marks             92\n",
      "Name: 4, dtype: object\n",
      "\n",
      "Row with label at 1:\n",
      " name      Alice whiteman\n",
      "age                   22\n",
      "rollNo                12\n",
      "city            San Jose\n",
      "marks                 85\n",
      "Name: 1, dtype: object\n",
      "\n",
      "Row with label at 3:\n",
      " name      James Jacob\n",
      "age                24\n",
      "rollNo             12\n",
      "city          Houston\n",
      "marks              88\n",
      "Name: 3, dtype: object\n",
      "\n",
      "Row with label at 2 and 4:\n",
      "           name  age  rollNo     city  marks\n",
      "2  Chris Lewis   23      12  Chicago     90\n"
     ]
    }
   ],
   "source": [
    "### By loc \n",
    "\n",
    "print(\"Row with label at 2:\\n\" , df.loc[0])\n",
    "print()\n",
    "print(\"Row with label at 4:\\n\" , df.loc[4])\n",
    "print()\n",
    "print(\"Row with label at 1:\\n\" , df.loc[1])\n",
    "print()\n",
    "print(\"Row with label at 3:\\n\" , df.loc[3])\n",
    "print()\n",
    "print(\"Row with label at 2 and 4:\\n\" , df.loc[[2]])"
   ]
  },
  {
   "cell_type": "code",
   "execution_count": 38,
   "id": "0f7a9c40",
   "metadata": {},
   "outputs": [
    {
     "name": "stdout",
     "output_type": "stream",
     "text": [
      "Row at position 2:\n",
      " name      Chris Lewis\n",
      "age                23\n",
      "rollNo             12\n",
      "city          Chicago\n",
      "marks              90\n",
      "Name: 2, dtype: object\n"
     ]
    }
   ],
   "source": [
    "### By iloc \n",
    "print(\"Row at position 2:\\n\" , df.iloc[2])"
   ]
  },
  {
   "cell_type": "markdown",
   "id": "5495eda0",
   "metadata": {},
   "source": [
    "### Loading Dataset "
   ]
  },
  {
   "cell_type": "code",
   "execution_count": 46,
   "id": "f842ac51",
   "metadata": {},
   "outputs": [
    {
     "name": "stdout",
     "output_type": "stream",
     "text": [
      "First Five rows of iris dataset :\n",
      "    sepal_length  sepal_width  petal_length  petal_width species\n",
      "0           5.1          3.5           1.4          0.2  setosa\n",
      "1           4.9          3.0           1.4          0.2  setosa\n",
      "2           4.7          3.2           1.3          0.2  setosa\n",
      "3           4.6          3.1           1.5          0.2  setosa\n",
      "4           5.0          3.6           1.4          0.2  setosa\n",
      "\n",
      "Shape of iris dataset:  (150, 5)\n",
      "\n",
      "Columns in iris dataset:  Index(['sepal_length', 'sepal_width', 'petal_length', 'petal_width',\n",
      "       'species'],\n",
      "      dtype='object')\n",
      "\n",
      " Summary of iris dataset :        sepal_length  sepal_width  petal_length  petal_width\n",
      "count    150.000000   150.000000    150.000000   150.000000\n",
      "mean       5.843333     3.057333      3.758000     1.199333\n",
      "std        0.828066     0.435866      1.765298     0.762238\n",
      "min        4.300000     2.000000      1.000000     0.100000\n",
      "25%        5.100000     2.800000      1.600000     0.300000\n",
      "50%        5.800000     3.000000      4.350000     1.300000\n",
      "75%        6.400000     3.300000      5.100000     1.800000\n",
      "max        7.900000     4.400000      6.900000     2.500000\n"
     ]
    }
   ],
   "source": [
    "iris = pd.read_csv('https://raw.githubusercontent.com/mwaskom/seaborn-data/master/iris.csv')\n",
    "print(\"First Five rows of iris dataset :\\n\", iris.head())\n",
    "\n",
    "# Shape of dataset\n",
    "print(\"\\nShape of iris dataset: \", iris.shape)\n",
    "# Columns in dataset\n",
    "print(\"\\nColumns in iris dataset: \", iris.columns)\n",
    "# Summary of dataset\n",
    "\n",
    "print(\"\\n Summary of iris dataset :\",iris.describe())"
   ]
  }
 ],
 "metadata": {
  "kernelspec": {
   "display_name": "Python 3",
   "language": "python",
   "name": "python3"
  },
  "language_info": {
   "codemirror_mode": {
    "name": "ipython",
    "version": 3
   },
   "file_extension": ".py",
   "mimetype": "text/x-python",
   "name": "python",
   "nbconvert_exporter": "python",
   "pygments_lexer": "ipython3",
   "version": "3.11.9"
  }
 },
 "nbformat": 4,
 "nbformat_minor": 5
}
